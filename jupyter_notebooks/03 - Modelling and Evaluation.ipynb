{
 "cells": [
  {
   "cell_type": "markdown",
   "metadata": {},
   "source": [
    "# **Modelling and Evaluation**\n",
    "---"
   ]
  },
  {
   "cell_type": "markdown",
   "metadata": {},
   "source": [
    "## Objective"
   ]
  },
  {
   "cell_type": "markdown",
   "metadata": {},
   "source": [
    "- Answer business requirement 2:\n",
    "    * The client needs a tool that can tell their pets apart based on live image data."
   ]
  },
  {
   "cell_type": "markdown",
   "metadata": {},
   "source": [
    "## Inputs"
   ]
  },
  {
   "cell_type": "markdown",
   "metadata": {},
   "source": [
    "- The folder `inputs/datasets/pets` containing the subfolders `train`, `test`, and `validation`\n",
    "- The correctly labelled folders in each of these subfolders\n",
    "- An adequate amount of preprocessed png images (size 450x450) in each labelled folder, showing a close-up of the pet's face\n",
    "- Image shape file"
   ]
  },
  {
   "cell_type": "markdown",
   "metadata": {},
   "source": [
    "## Outputs"
   ]
  },
  {
   "cell_type": "markdown",
   "metadata": {},
   "source": [
    "- Images distribution plot in train, validation, and test set\n",
    "- Image augmentation\n",
    "- Class indices\n",
    "- Results of ML hyperparameter optimization\n",
    "- Machine learning model creation and training\n",
    "- Saved model\n",
    "- Learning curve plot for model performance\n",
    "- Model evaluation in pickle file\n",
    "- Prediction on test data\n",
    "- Prediction on live data"
   ]
  },
  {
   "cell_type": "markdown",
   "metadata": {},
   "source": [
    "---\n",
    "\n",
    "### Import libraries"
   ]
  },
  {
   "cell_type": "code",
   "execution_count": 1,
   "metadata": {},
   "outputs": [],
   "source": [
    "import os\n",
    "import pandas as pd\n",
    "import numpy as np\n",
    "import matplotlib.pyplot as plt\n",
    "import seaborn as sns\n",
    "import joblib\n",
    "from matplotlib.image import imread\n",
    "from tensorflow.keras.preprocessing import image\n",
    "from PIL import Image\n",
    "import shutil\n",
    "import random\n",
    "\n",
    "sns.set_style(\"white\")\n"
   ]
  },
  {
   "cell_type": "markdown",
   "metadata": {},
   "source": [
    "### Set the correct working directory"
   ]
  },
  {
   "cell_type": "code",
   "execution_count": 2,
   "metadata": {},
   "outputs": [
    {
     "data": {
      "text/plain": [
       "'d:\\\\Projekte\\\\Coding\\\\CodeInstitute\\\\PP5\\\\jupyter_notebooks'"
      ]
     },
     "execution_count": 2,
     "metadata": {},
     "output_type": "execute_result"
    }
   ],
   "source": [
    "# Check the current working directory; os.chdir to change working directory if needed\n",
    "cwd = os.getcwd()\n",
    "cwd"
   ]
  },
  {
   "cell_type": "code",
   "execution_count": 3,
   "metadata": {},
   "outputs": [
    {
     "data": {
      "text/plain": [
       "'d:\\\\Projekte\\\\Coding\\\\CodeInstitute\\\\PP5'"
      ]
     },
     "execution_count": 3,
     "metadata": {},
     "output_type": "execute_result"
    }
   ],
   "source": [
    "os.chdir(os.path.dirname(cwd))\n",
    "cwd = os.getcwd()\n",
    "cwd"
   ]
  },
  {
   "cell_type": "markdown",
   "metadata": {},
   "source": [
    "### Set the paths to the input and output folders"
   ]
  },
  {
   "cell_type": "code",
   "execution_count": 4,
   "metadata": {},
   "outputs": [],
   "source": [
    "# Save path names for each directory\n",
    "full_dataset_path = os.path.normpath(os.path.join(cwd, 'inputs/datasets/pets'))\n",
    "\n",
    "output_path = os.path.join(cwd, 'outputs')\n",
    "train_path = os.path.join(full_dataset_path, 'train')\n",
    "test_path = os.path.join(full_dataset_path, 'test')\n",
    "validation_path = os.path.join(full_dataset_path, 'validation')\n",
    "\n"
   ]
  },
  {
   "cell_type": "markdown",
   "metadata": {},
   "source": [
    "### Create style for highlighting errors and warnings"
   ]
  },
  {
   "cell_type": "code",
   "execution_count": 5,
   "metadata": {},
   "outputs": [],
   "source": [
    "from colorama import Fore, Style\n",
    "\n",
    "# Error notification style\n",
    "def print_err(message):\n",
    "    print(f'{Fore.RED}ERROR:{Style.RESET_ALL}\\n{message}')\n",
    "\n",
    "# Warning notification style\n",
    "def print_warn(message):\n",
    "    print(f'{Fore.YELLOW}WARNING:{Style.RESET_ALL}\\n{message}')"
   ]
  },
  {
   "cell_type": "markdown",
   "metadata": {},
   "source": [
    "---\n",
    "## **Label distribution**\n",
    "---"
   ]
  },
  {
   "cell_type": "code",
   "execution_count": 16,
   "metadata": {},
   "outputs": [
    {
     "data": {
      "image/png": "[encoded data removed]",
      "text/plain": [
       "<Figure size 640x480 with 1 Axes>"
      ]
     },
     "metadata": {},
     "output_type": "display_data"
    },
    {
     "name": "stdout",
     "output_type": "stream",
     "text": [
      "        test  train  validation\n",
      "fin       51    156          52\n",
      "iris      27     83          28\n",
      "smilla    20     61          19\n"
     ]
    }
   ],
   "source": [
    "dataset_stats = joblib.load('outputs/labels_distribution.pkl')\n",
    "plt.imshow(imread('outputs/labels_distribution.png'))\n",
    "plt.show()\n",
    "df = pd.DataFrame(dataset_stats)\n",
    "print(df)"
   ]
  },
  {
   "cell_type": "markdown",
   "metadata": {},
   "source": [
    "### Data balancing and augmentation"
   ]
  },
  {
   "cell_type": "markdown",
   "metadata": {},
   "source": [
    "We decide to balance the data through augmentation and oversampling."
   ]
  },
  {
   "cell_type": "code",
   "execution_count": 17,
   "metadata": {},
   "outputs": [
    {
     "name": "stdout",
     "output_type": "stream",
     "text": [
      "        test  train  validation\n",
      "fin       51    156          52\n",
      "iris      27     83          28\n",
      "smilla    20     61          19\n"
     ]
    }
   ],
   "source": [
    "\n",
    "def augment(aug_percentage, stats):\n",
    "    aug_stats = {}\n",
    "    df = pd.DataFrame(stats)\n",
    "    print(df)\n",
    "    for key, value in stats.items():\n",
    "        aug_stats[key] = {}\n",
    "        for label, amount in value.items():\n",
    "            pass #print(aug_stats[key][label])\n",
    "\n",
    "# By how many percent should the largest label be augmented?\n",
    "augment(0.3, dataset_stats)"
   ]
  },
  {
   "cell_type": "code",
   "execution_count": null,
   "metadata": {},
   "outputs": [],
   "source": [
    "# Load all images from specified folder, resize them, save them as np array in X and save their labels in y\n",
    "def save_images_in_array(path, size=(200, 200), has_label=True):\n",
    "    X, y = np.array([], dtype='int'), np.array([], dtype='object')\n",
    "    if has_label:\n",
    "        for label in os.listdir(path):\n",
    "            img_list = os.listdir(os.path.join(path, label))\n",
    "            for img_name in img_list:\n",
    "                img = image.load_img(os.path.join(path, label, img_name))\n",
    "                img_resized = image.img_to_array(img.resize(size, resample=Image.LANCZOS))\n",
    "                if img_resized.max() > 1:\n",
    "                    img_resized = img_resized / 255\n",
    "                new_shape = (-1, size[0], size[1], 3)\n",
    "                X = np.append(X, img_resized).reshape(new_shape)\n",
    "                y = np.append(y, label)\n",
    "    else:\n",
    "        label = 'unknown'\n",
    "        img_list = os.listdir(path)\n",
    "        for img_name in img_list:\n",
    "            img = image.load_img(os.path.join(path, img_name))\n",
    "            img_resized = image.img_to_array(img.resize(size, resample=Image.LANCZOS))\n",
    "            if img_resized.max() > 1:\n",
    "                img_resized = img_resized / 255\n",
    "            new_shape = (-1, size[0], size[1], 3)\n",
    "            X = np.append(X, img_resized).reshape(new_shape)\n",
    "            y = np.append(y, label)\n",
    "            \n",
    "    # Shuffle the training set\n",
    "    train_set = list(zip(y, X))\n",
    "    random.shuffle(train_set)\n",
    "    y_shuffled, X_shuffled = list(map(list, zip(*train_set)))\n",
    "    X = np.array(X_shuffled, dtype='float')\n",
    "    y = np.array(y_shuffled, dtype='object')\n",
    "    \n",
    "    return X, y\n"
   ]
  }
 ],
 "metadata": {
  "kernelspec": {
   "display_name": ".venv",
   "language": "python",
   "name": "python3"
  },
  "language_info": {
   "codemirror_mode": {
    "name": "ipython",
    "version": 3
   },
   "file_extension": ".py",
   "mimetype": "text/x-python",
   "name": "python",
   "nbconvert_exporter": "python",
   "pygments_lexer": "ipython3",
   "version": "3.12.2"
  }
 },
 "nbformat": 4,
 "nbformat_minor": 2
}

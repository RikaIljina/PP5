{
 "cells": [
  {
   "cell_type": "markdown",
   "metadata": {},
   "source": [
    "# **Data Collection**\n",
    "---"
   ]
  },
  {
   "cell_type": "markdown",
   "metadata": {},
   "source": [
    "## Objective"
   ]
  },
  {
   "cell_type": "markdown",
   "metadata": {},
   "source": [
    "- Clean and prepare the provided image dataset"
   ]
  },
  {
   "cell_type": "markdown",
   "metadata": {},
   "source": [
    "## Inputs"
   ]
  },
  {
   "cell_type": "markdown",
   "metadata": {},
   "source": [
    "- A folder containing a specific amount of correctly labeled subfolders corresponding to the amount of pets to distinguish\n",
    "- Several hundred preprocessed png images (size 450x450) in each subfolder, showing a close-up of the pet's face"
   ]
  },
  {
   "cell_type": "markdown",
   "metadata": {},
   "source": [
    "## Outputs"
   ]
  },
  {
   "cell_type": "markdown",
   "metadata": {},
   "source": [
    "- A cleaned dataset in the folder `inputs/datasets/pets` split into `train`/`validation`/`test` subfolders"
   ]
  },
  {
   "cell_type": "markdown",
   "metadata": {},
   "source": [
    "---\n",
    "\n",
    "### Import libraries"
   ]
  },
  {
   "cell_type": "code",
   "execution_count": 1,
   "metadata": {},
   "outputs": [],
   "source": [
    "import os\n",
    "import pandas as pd\n",
    "import numpy as np\n",
    "import matplotlib.pyplot as plt\n",
    "import seaborn as sns\n",
    "import joblib\n",
    "from matplotlib.image import imread\n",
    "from tensorflow.keras.preprocessing import image\n",
    "from PIL import Image\n",
    "import shutil\n",
    "import random\n",
    "\n",
    "sns.set_style(\"white\")\n"
   ]
  },
  {
   "cell_type": "markdown",
   "metadata": {},
   "source": [
    "### Set the correct working directory"
   ]
  },
  {
   "cell_type": "code",
   "execution_count": 2,
   "metadata": {},
   "outputs": [
    {
     "data": {
      "text/plain": [
       "'d:\\\\Projekte\\\\Coding\\\\CodeInstitute\\\\PP5\\\\jupyter_notebooks'"
      ]
     },
     "execution_count": 2,
     "metadata": {},
     "output_type": "execute_result"
    }
   ],
   "source": [
    "# Check the current working directory; os.chdir to change working directory if needed\n",
    "cwd = os.getcwd()\n",
    "cwd"
   ]
  },
  {
   "cell_type": "code",
   "execution_count": 5,
   "metadata": {},
   "outputs": [
    {
     "data": {
      "text/plain": [
       "'d:\\\\Projekte\\\\Coding\\\\CodeInstitute\\\\PP5'"
      ]
     },
     "execution_count": 5,
     "metadata": {},
     "output_type": "execute_result"
    }
   ],
   "source": [
    "os.chdir(os.path.dirname(cwd))\n",
    "cwd = os.getcwd()\n",
    "cwd"
   ]
  },
  {
   "cell_type": "markdown",
   "metadata": {},
   "source": [
    "### Set the path to the full dataset"
   ]
  },
  {
   "cell_type": "code",
   "execution_count": 17,
   "metadata": {},
   "outputs": [
    {
     "data": {
      "text/plain": [
       "'d:\\\\Projekte\\\\Coding\\\\CodeInstitute\\\\PP5\\\\inputs\\\\datasets\\\\pets'"
      ]
     },
     "execution_count": 17,
     "metadata": {},
     "output_type": "execute_result"
    }
   ],
   "source": [
    "full_dataset_path = os.path.normpath(os.path.join(cwd, 'inputs/datasets/pets'))\n",
    "full_dataset_path"
   ]
  },
  {
   "cell_type": "markdown",
   "metadata": {},
   "source": [
    "### Create style for highlighting errors"
   ]
  },
  {
   "cell_type": "code",
   "execution_count": 15,
   "metadata": {},
   "outputs": [],
   "source": [
    "from colorama import Fore, Style\n",
    "\n",
    "# Error notification style\n",
    "def print_err(message):\n",
    "    print(f'{Fore.RED}ERROR:{Style.RESET_ALL}\\n{message}')"
   ]
  },
  {
   "cell_type": "markdown",
   "metadata": {},
   "source": [
    "### Check the directories and clean the images"
   ]
  },
  {
   "cell_type": "code",
   "execution_count": 24,
   "metadata": {},
   "outputs": [
    {
     "name": "stdout",
     "output_type": "stream",
     "text": [
      "\u001b[31mERROR:\u001b[0m\n",
      "Couldn't open d:\\Projekte\\Coding\\CodeInstitute\\PP5\\inputs\\datasets\\pets\\iris\\Neue Bitmap.png.\n",
      "Delete invalid file d:\\Projekte\\Coding\\CodeInstitute\\PP5\\inputs\\datasets\\pets\\iris\\Neue Bitmap.png? (y/n)\n"
     ]
    }
   ],
   "source": [
    "# !! Only run with a new image dataset !!\n",
    "from PIL import UnidentifiedImageError\n",
    "\n",
    "\n",
    "def check_and_clean_images(path):\n",
    "    \n",
    "    if not os.path.isdir(path):\n",
    "        print_err(f\"The path {path} that should contain the labelled subfolders doesn't exist.\")\n",
    "        return\n",
    "    if len(os.listdir(path)) == 0:\n",
    "        print_err(f\"The path {path} that should contain the labelled subfolders is empty.\")\n",
    "        return\n",
    "    \n",
    "    # Valid image extensions\n",
    "    img_ext = ('.png', '.jpg', '.jpeg')\n",
    "    img_stats = {}\n",
    "    for label in os.listdir(path):\n",
    "        c = 0\n",
    "        label_path = os.path.join(path, label)\n",
    "        label_files = os.listdir(label_path)\n",
    "        if len(label_files) == 0:\n",
    "            print_err(f\"The path {label_path} that should contain the images of the pet '{label}' is empty. Cancelling the operation.\")\n",
    "            return\n",
    "        for file in label_files:\n",
    "            file_path = os.path.join(label_path, file)\n",
    "            if not file.lower().endswith(img_ext):\n",
    "                print_err(f'{file} has an invalid file extension. Valid extensions are png, jpg, jpeg. Delete file (y) or cancel operation (n)?')\n",
    "                user_prompt = input()\n",
    "                if user_prompt.lower() == 'y':\n",
    "                    print(f'Deleting invalid file {file} ...')\n",
    "                    os.remove(file_path)\n",
    "                else:\n",
    "                    print('Canceling the image cleaning process. Please make sure all input files have valid extensions and restart the process.')\n",
    "                    return\n",
    "            else:\n",
    "                try:\n",
    "                    with Image.open(file_path) as img:\n",
    "                        if not img.width == img.height:\n",
    "                            user_prompt = input(f\"Resize and overwrite {file_path}? (y/n)\")\n",
    "                            if user_prompt.lower() == 'y':\n",
    "                                img = img.resize((450, 450), resample=Image.LANCZOS)\n",
    "                                img.save(file_path)\n",
    "                                print(f'Resized and overwrote {file_path}')\n",
    "                            else:\n",
    "                                print('skipping ...')\n",
    "                                continue\n",
    "                    c += 1\n",
    "                    \n",
    "                except (IOError, OSError, UnidentifiedImageError):\n",
    "                    print_err(f\"Couldn't open {file_path}.\\nDelete invalid file {file_path}? (y/n)\")\n",
    "                    user_prompt = input()\n",
    "                    if user_prompt.lower() == 'y':\n",
    "                        os.remove(file_path)\n",
    "                        print(f'Deleted {file_path}')\n",
    "                        \n",
    "                    continue\n",
    "        \n",
    "        img_stats[label] = c\n",
    "    \n",
    "    return img_stats\n",
    "    #print(f'{label} contains {c} files')\n",
    "\n",
    "img_stats = check_and_clean_images(full_dataset_path)\n",
    "#img_stats"
   ]
  },
  {
   "cell_type": "code",
   "execution_count": null,
   "metadata": {},
   "outputs": [],
   "source": []
  },
  {
   "cell_type": "code",
   "execution_count": null,
   "metadata": {},
   "outputs": [],
   "source": []
  }
 ],
 "metadata": {
  "kernelspec": {
   "display_name": ".venv",
   "language": "python",
   "name": "python3"
  },
  "language_info": {
   "codemirror_mode": {
    "name": "ipython",
    "version": 3
   },
   "file_extension": ".py",
   "mimetype": "text/x-python",
   "name": "python",
   "nbconvert_exporter": "python",
   "pygments_lexer": "ipython3",
   "version": "3.12.2"
  }
 },
 "nbformat": 4,
 "nbformat_minor": 2
}

{
 "cells": [
  {
   "cell_type": "markdown",
   "metadata": {},
   "source": [
    "# **Data Collection**\n",
    "---"
   ]
  },
  {
   "cell_type": "markdown",
   "metadata": {},
   "source": [
    "## Objective"
   ]
  },
  {
   "cell_type": "markdown",
   "metadata": {},
   "source": [
    "- Clean and prepare the provided image dataset"
   ]
  },
  {
   "cell_type": "markdown",
   "metadata": {},
   "source": [
    "## Inputs"
   ]
  },
  {
   "cell_type": "markdown",
   "metadata": {},
   "source": [
    "- A folder containing a specific amount of correctly labeled subfolders corresponding to the amount of pets to distinguish\n",
    "- Several hundred preprocessed png images (size 450x450) in each subfolder, showing a close-up of the pet's face"
   ]
  },
  {
   "cell_type": "markdown",
   "metadata": {},
   "source": [
    "## Outputs"
   ]
  },
  {
   "cell_type": "markdown",
   "metadata": {},
   "source": [
    "- A cleaned dataset in the folder `inputs/datasets/pets` split into `train`/`validation`/`test` subfolders"
   ]
  },
  {
   "cell_type": "markdown",
   "metadata": {},
   "source": [
    "---\n",
    "\n",
    "### Import libraries"
   ]
  },
  {
   "cell_type": "code",
   "execution_count": 1,
   "metadata": {},
   "outputs": [],
   "source": [
    "import os\n",
    "import pandas as pd\n",
    "import numpy as np\n",
    "import matplotlib.pyplot as plt\n",
    "import seaborn as sns\n",
    "import joblib\n",
    "from matplotlib.image import imread\n",
    "from tensorflow.keras.preprocessing import image\n",
    "from PIL import Image\n",
    "import shutil\n",
    "import random\n",
    "\n",
    "sns.set_style(\"white\")\n"
   ]
  },
  {
   "cell_type": "markdown",
   "metadata": {},
   "source": [
    "### Set the correct working directory"
   ]
  },
  {
   "cell_type": "code",
   "execution_count": null,
   "metadata": {},
   "outputs": [],
   "source": [
    "# Check the current working directory; os.chdir to change working directory if needed\n",
    "cwd = os.getcwd()\n",
    "cwd"
   ]
  },
  {
   "cell_type": "code",
   "execution_count": null,
   "metadata": {},
   "outputs": [],
   "source": [
    "os.chdir(os.path.dirname(cwd))\n",
    "cwd = os.getcwd()\n",
    "cwd"
   ]
  },
  {
   "cell_type": "markdown",
   "metadata": {},
   "source": [
    "### Set the path to the full dataset"
   ]
  },
  {
   "cell_type": "code",
   "execution_count": null,
   "metadata": {},
   "outputs": [],
   "source": [
    "full_dataset_path = os.path.normpath(os.path.join(cwd, 'inputs/datasets/pets'))\n",
    "full_dataset_path"
   ]
  },
  {
   "cell_type": "markdown",
   "metadata": {},
   "source": [
    "### Create style for highlighting errors and warnings"
   ]
  },
  {
   "cell_type": "code",
   "execution_count": 46,
   "metadata": {},
   "outputs": [],
   "source": [
    "from colorama import Fore, Style\n",
    "\n",
    "# Error notification style\n",
    "def print_err(message):\n",
    "    print(f'{Fore.RED}ERROR:{Style.RESET_ALL}\\n{message}')\n",
    "\n",
    "# Warning notification style\n",
    "def print_warn(message):\n",
    "    print(f'{Fore.YELLOW}WARNING:{Style.RESET_ALL}\\n{message}')"
   ]
  },
  {
   "cell_type": "markdown",
   "metadata": {},
   "source": [
    "### Check the directories and clean the images"
   ]
  },
  {
   "cell_type": "code",
   "execution_count": 53,
   "metadata": {},
   "outputs": [
    {
     "name": "stdout",
     "output_type": "stream",
     "text": [
      "Checking the provided directory d:\\Projekte\\Coding\\CodeInstitute\\PP5\\inputs\\datasets\\pets ...\n",
      "\u001b[33mWARNING:\u001b[0m\n",
      "The labelled subfolders ['fin', 'iris', 'nn', 'smilla'] seem to be incomplete: there are 4 instead of 3 labels.\n",
      "Continue cleaning and preparing the existing subfolders anyway? (y/n)\n"
     ]
    },
    {
     "name": "stdout",
     "output_type": "stream",
     "text": [
      "Checking the provided directory d:\\Projekte\\Coding\\CodeInstitute\\PP5\\inputs\\datasets\\pets\\fin ...\n",
      "Amount of files with the label \"fin\": \n",
      "259\n",
      "Checking the provided directory d:\\Projekte\\Coding\\CodeInstitute\\PP5\\inputs\\datasets\\pets\\iris ...\n",
      "Amount of files with the label \"iris\": \n",
      "138\n",
      "Checking the provided directory d:\\Projekte\\Coding\\CodeInstitute\\PP5\\inputs\\datasets\\pets\\nn ...\n",
      "Amount of files with the label \"nn\": \n",
      "0\n",
      "Checking the provided directory d:\\Projekte\\Coding\\CodeInstitute\\PP5\\inputs\\datasets\\pets\\smilla ...\n",
      "Amount of files with the label \"smilla\": \n",
      "100\n",
      "\u001b[33mWARNING:\u001b[0m\n",
      "There are labelled subfolders not containing any files.\n",
      "Continue cleaning and preparing the other subfolders anyway? (y/n)\n",
      "\u001b[33mWARNING:\u001b[0m\n",
      "The path d:\\Projekte\\Coding\\CodeInstitute\\PP5\\inputs\\datasets\\pets\\nn that should contain the images of the pet 'nn' is empty. Skipping to the next label.\n"
     ]
    },
    {
     "data": {
      "text/plain": [
       "{'fin': 259, 'iris': 138, 'smilla': 100}"
      ]
     },
     "execution_count": 53,
     "metadata": {},
     "output_type": "execute_result"
    }
   ],
   "source": [
    "# !! Only run with a new image dataset !!\n",
    "from PIL import UnidentifiedImageError\n",
    "from PIL import ImageOps\n",
    "import sys\n",
    "\n",
    "\n",
    "def check_and_clean_images(path, expected_labels_num):\n",
    "    \n",
    "    # Check if the directory with the dataset exists\n",
    "    if not os.path.isdir(path):\n",
    "        print_err(f\"The path {path} that should contain the labelled subfolders doesn't exist.\")\n",
    "        return\n",
    "    if len(os.listdir(path)) == 0:\n",
    "        print_err(f\"The path {path} that should contain the labelled subfolders is empty.\")\n",
    "        return\n",
    "    \n",
    "    base_root = ''\n",
    "    empty_label = False\n",
    "    incomplete_dataset = False\n",
    "    for root, dirs, files in os.walk(path):\n",
    "        print(f'Checking the provided directory {root} ...')\n",
    "        if not base_root:\n",
    "            base_root = root\n",
    "            # Check if all labels are present\n",
    "            if len(dirs) != expected_labels_num:\n",
    "                print_warn(f\"The labelled subfolders {dirs} seem to be incomplete: there are {len(dirs)} instead of {expected_labels_num} labels.\\n\"\n",
    "                        f\"Continue cleaning and preparing the existing subfolders anyway? (y/n)\")\n",
    "                sys.stdout.flush()\n",
    "                user_prompt = input()\n",
    "                if user_prompt.lower() == 'y':\n",
    "                    incomplete_dataset = True\n",
    "                    continue\n",
    "                else:\n",
    "                    print('Cancelling the operation.')\n",
    "                    return\n",
    "        # Check if all labels contain files\n",
    "        else:\n",
    "            print(f'Amount of files with the label \"{os.path.split(root)[1]}\": \\n{len(files)}')\n",
    "            if len(files) == 0:\n",
    "                empty_label = True\n",
    "    \n",
    "    if empty_label:\n",
    "        print_warn(f\"There are labelled subfolders not containing any files.\\n\"\n",
    "                f\"Continue cleaning and preparing the other subfolders anyway? (y/n)\")\n",
    "        sys.stdout.flush()\n",
    "        user_prompt = input()\n",
    "        if user_prompt.lower() == 'y':\n",
    "            incomplete_dataset = True\n",
    "        else:\n",
    "            print('Cancelling the operation.')\n",
    "            return\n",
    "    \n",
    "    # Valid image extensions\n",
    "    img_ext = ('.png', '.jpg', '.jpeg')\n",
    "    img_stats = {}\n",
    "\n",
    "        \n",
    "    for label in os.listdir(path):\n",
    "        c = 0\n",
    "        label_path = os.path.join(path, label)\n",
    "        label_files = os.listdir(label_path)\n",
    "        \n",
    "        if len(label_files) == 0:\n",
    "            print_warn(f\"The path {label_path} that should contain the images of the pet '{label}' is empty. Skipping to the next label.\")\n",
    "            continue\n",
    "        \n",
    "        for file in label_files:\n",
    "            file_path = os.path.join(label_path, file)\n",
    "            if not file.lower().endswith(img_ext):\n",
    "                print_err(f'{file} has an invalid file extension. Valid extensions are png, jpg, jpeg. Delete file (y) or cancel operation (n)?')\n",
    "                sys.stdout.flush()\n",
    "                user_prompt = input()\n",
    "                if user_prompt.lower() == 'y':\n",
    "                    print(f'Deleting invalid file {file} ...')\n",
    "                    os.remove(file_path)\n",
    "                else:\n",
    "                    print('Cancelling the image cleaning process. Please make sure all input files have valid extensions and restart the process.')\n",
    "                    return\n",
    "            else:\n",
    "                try:\n",
    "                    with Image.open(file_path) as img:\n",
    "                        if not img.width == img.height:\n",
    "                            print_warn(f'{file_path}:\\nThe image aspect ratio is not 1:1. Pad and overwrite file? (y/n)')\n",
    "                            sys.stdout.flush()\n",
    "                            user_prompt = input()\n",
    "                            if user_prompt.lower() == 'y':\n",
    "                                img = ImageOps.pad(img, (450, 450), method=Image.LANCZOS, color='white')\n",
    "                                img.show()\n",
    "                                #img = img.resize((450, 450), resample=Image.LANCZOS)\n",
    "                                img.save(file_path)\n",
    "                                print(f'Padded and overwrote {file_path}')\n",
    "                            else:\n",
    "                                print('Skipping ...')\n",
    "                                continue\n",
    "                    c += 1\n",
    "                    \n",
    "                except (IOError, OSError, UnidentifiedImageError):\n",
    "                    print_err(f\"Couldn't open {file_path}.\\nDelete invalid file {file_path}? (y/n)\")\n",
    "                    sys.stdout.flush()\n",
    "                    user_prompt = input()\n",
    "                    if user_prompt.lower() == 'y':\n",
    "                        os.remove(file_path)\n",
    "                        print(f'Deleted {file_path}')\n",
    "                        \n",
    "                    continue\n",
    "        \n",
    "        img_stats[label] = c\n",
    "    \n",
    "    return img_stats\n",
    "    #print(f'{label} contains {c} files')\n",
    "\n",
    "img_stats = check_and_clean_images(full_dataset_path, expected_labels_num=3)\n",
    "img_stats"
   ]
  },
  {
   "cell_type": "code",
   "execution_count": null,
   "metadata": {},
   "outputs": [],
   "source": []
  },
  {
   "cell_type": "code",
   "execution_count": null,
   "metadata": {},
   "outputs": [],
   "source": []
  }
 ],
 "metadata": {
  "kernelspec": {
   "display_name": ".venv",
   "language": "python",
   "name": "python3"
  },
  "language_info": {
   "codemirror_mode": {
    "name": "ipython",
    "version": 3
   },
   "file_extension": ".py",
   "mimetype": "text/x-python",
   "name": "python",
   "nbconvert_exporter": "python",
   "pygments_lexer": "ipython3",
   "version": "3.12.2"
  }
 },
 "nbformat": 4,
 "nbformat_minor": 2
}

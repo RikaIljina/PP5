{
 "cells": [
  {
   "cell_type": "markdown",
   "metadata": {},
   "source": [
    "# **Data Collection**\n",
    "---"
   ]
  },
  {
   "cell_type": "markdown",
   "metadata": {},
   "source": [
    "## Objective"
   ]
  },
  {
   "cell_type": "markdown",
   "metadata": {},
   "source": [
    "- Clean and prepare the provided image dataset"
   ]
  },
  {
   "cell_type": "markdown",
   "metadata": {},
   "source": [
    "## Inputs"
   ]
  },
  {
   "cell_type": "markdown",
   "metadata": {},
   "source": [
    "- A folder containing a specific amount of correctly labeled subfolders corresponding to the amount of pets to distinguish\n",
    "- Several hundred preprocessed png images (size 128x128) in each subfolder, showing a snapshot af a pet walking up to a bowl"
   ]
  },
  {
   "cell_type": "markdown",
   "metadata": {},
   "source": [
    "## Outputs"
   ]
  },
  {
   "cell_type": "markdown",
   "metadata": {},
   "source": [
    "- A cleaned dataset in the folder `inputs/datasets/pets` split into `train`/`validation`/`test` subfolders"
   ]
  },
  {
   "cell_type": "markdown",
   "metadata": {},
   "source": [
    "---\n",
    "\n",
    "### Import libraries"
   ]
  },
  {
   "cell_type": "code",
   "execution_count": 1,
   "metadata": {},
   "outputs": [],
   "source": [
    "import os\n",
    "import pandas as pd\n",
    "import numpy as np\n",
    "import matplotlib.pyplot as plt\n",
    "import seaborn as sns\n",
    "import joblib\n",
    "from matplotlib.image import imread\n",
    "from tensorflow.keras.preprocessing import image\n",
    "from PIL import Image\n",
    "import shutil\n",
    "import random\n",
    "\n",
    "sns.set_style(\"white\")"
   ]
  },
  {
   "cell_type": "markdown",
   "metadata": {},
   "source": [
    "### Set the correct working directory"
   ]
  },
  {
   "cell_type": "code",
   "execution_count": 2,
   "metadata": {},
   "outputs": [
    {
     "data": {
      "text/plain": [
       "'d:\\\\Projekte\\\\Coding\\\\CodeInstitute\\\\PP5\\\\jupyter_notebooks'"
      ]
     },
     "execution_count": 2,
     "metadata": {},
     "output_type": "execute_result"
    }
   ],
   "source": [
    "# Check the current working directory\n",
    "cwd = os.getcwd()\n",
    "cwd"
   ]
  },
  {
   "cell_type": "code",
   "execution_count": 3,
   "metadata": {},
   "outputs": [
    {
     "data": {
      "text/plain": [
       "'d:\\\\Projekte\\\\Coding\\\\CodeInstitute\\\\PP5'"
      ]
     },
     "execution_count": 3,
     "metadata": {},
     "output_type": "execute_result"
    }
   ],
   "source": [
    "# Move up to the project top directory\n",
    "os.chdir(os.path.dirname(cwd))\n",
    "cwd = os.getcwd()\n",
    "cwd"
   ]
  },
  {
   "cell_type": "markdown",
   "metadata": {},
   "source": [
    "### Set the path to the full dataset and the output folder"
   ]
  },
  {
   "cell_type": "code",
   "execution_count": 23,
   "metadata": {},
   "outputs": [
    {
     "data": {
      "text/plain": [
       "['fin', 'iris', 'smilla']"
      ]
     },
     "execution_count": 23,
     "metadata": {},
     "output_type": "execute_result"
    }
   ],
   "source": [
    "dataset_name = \"pets\"\n",
    "full_dataset_path = os.path.normpath(os.path.join(cwd, \"inputs/datasets\", dataset_name))\n",
    "output_path = os.path.join(cwd, \"outputs\")\n",
    "\n",
    "# The following line should show a list containing all the label names of the input dataset\n",
    "os.listdir(full_dataset_path)"
   ]
  },
  {
   "cell_type": "markdown",
   "metadata": {},
   "source": [
    "### Create style for highlighting errors and warnings"
   ]
  },
  {
   "cell_type": "code",
   "execution_count": 24,
   "metadata": {},
   "outputs": [],
   "source": [
    "from colorama import Fore, Style\n",
    "\n",
    "\n",
    "# Error notification style\n",
    "def print_err(message):\n",
    "    print(f\"{Fore.RED}ERROR:{Style.RESET_ALL}\\n{message}\")\n",
    "\n",
    "\n",
    "# Warning notification style\n",
    "def print_warn(message):\n",
    "    print(f\"{Fore.YELLOW}WARNING:{Style.RESET_ALL}\\n{message}\")"
   ]
  },
  {
   "cell_type": "markdown",
   "metadata": {},
   "source": [
    "### Check the directories and clean the images"
   ]
  },
  {
   "cell_type": "code",
   "execution_count": 25,
   "metadata": {},
   "outputs": [],
   "source": [
    "from PIL import UnidentifiedImageError\n",
    "from PIL import ImageOps\n",
    "import sys\n",
    "\n",
    "\n",
    "def get_user_confirmation():\n",
    "    \"\"\"User prompt helper function\"\"\"\n",
    "\n",
    "    sys.stdout.flush()\n",
    "    return input().lower()\n",
    "\n",
    "\n",
    "def check_folder_structure(path, expected_labels_num):\n",
    "    \"\"\"Check if the directory with the dataset exists and is complete\n",
    "\n",
    "    Args:\n",
    "        path (str): Full path to the dataset\n",
    "        expected_labels_num (int): Amount of expected labels\n",
    "\n",
    "    Returns:\n",
    "        incomplete_dataset (bool): Flag showing if the dataset is complete\n",
    "        None: If the directory couldn't be checked due to an error\n",
    "    \"\"\"\n",
    "\n",
    "    if not os.path.isdir(path):\n",
    "        print_err(\n",
    "            f\"The path {path} that should contain the labelled subfolders doesn't exist.\"\n",
    "        )\n",
    "        return\n",
    "    if len(os.listdir(path)) == 0:\n",
    "        print_err(\n",
    "            f\"The path {path} that should contain the labelled subfolders is empty.\"\n",
    "        )\n",
    "        return\n",
    "    if not set(['train', 'test', 'validation']).isdisjoint(os.listdir(path)):\n",
    "        print_err(\n",
    "            f\"The folder {path} seems to already contain the split dataset or a label \"\n",
    "            f\" has been named 'train', 'test', or 'validation'.\"\n",
    "        )\n",
    "        return\n",
    "\n",
    "    checked_root = False\n",
    "    empty_label = False\n",
    "    incomplete_dataset = False\n",
    "\n",
    "    for root, dirs, files in os.walk(path):\n",
    "        print(f\"Checking the directory {root} ...\")\n",
    "        if not checked_root:\n",
    "            checked_root = True\n",
    "            # Check if all labels are present\n",
    "            if len(dirs) != expected_labels_num:\n",
    "                print_warn(\n",
    "                    f\"The labelled subfolders {dirs} seem to be incomplete: there are \"\n",
    "                    f\"{len(dirs)} instead of {expected_labels_num} labels.\\n\"\n",
    "                    f\"Continue cleaning and preparing the existing subfolders anyway? (y/n)\"\n",
    "                )\n",
    "                if get_user_confirmation() == \"y\":\n",
    "                    incomplete_dataset = True\n",
    "                    continue\n",
    "                else:\n",
    "                    print(\"Cancelling the operation.\")\n",
    "                    return\n",
    "        # Check if all labels contain files\n",
    "        else:\n",
    "            print(\n",
    "                f'Amount of files with the label \"{os.path.split(root)[1]}\": \\n{len(files)}'\n",
    "            )\n",
    "            if len(files) == 0:\n",
    "                empty_label = True\n",
    "\n",
    "    if empty_label:\n",
    "        print_warn(\n",
    "            f\"There are labelled subfolders not containing any files.\\n\"\n",
    "            f\"Continue cleaning and preparing the other subfolders anyway? (y/n)\"\n",
    "        )\n",
    "        if get_user_confirmation() == \"y\":\n",
    "            incomplete_dataset = True\n",
    "        else:\n",
    "            print(\"Cancelling the operation.\")\n",
    "            return\n",
    "\n",
    "    return incomplete_dataset\n",
    "\n",
    "\n",
    "def clean_images(path, expected_labels_num, dims):\n",
    "    \"\"\"Check type and size of all images in dataset\n",
    "\n",
    "    This function checks all files and fixes/deletes invalid files.\n",
    "\n",
    "    Args:\n",
    "        path (str): Full path to the dataset\n",
    "        expected_labels_num (int): Amount of expected labels\n",
    "        dims (tuple): Expected dimensions of all image files\n",
    "\n",
    "    Returns:\n",
    "        img_stats (dict): Dictionary with labels as keys and image amounts as values\n",
    "    \"\"\"\n",
    "\n",
    "    # First check if the input dataset folder structure is as expected\n",
    "    incomplete_dataset = check_folder_structure(path, expected_labels_num)\n",
    "\n",
    "    # If the function check_folder_structure() didn't return anything due to an error:\n",
    "    if incomplete_dataset is None:\n",
    "        return\n",
    "\n",
    "    # Valid image extensions\n",
    "    img_ext = (\".png\", \".jpg\", \".jpeg\")\n",
    "    img_stats = {}\n",
    "    wrong_aspect_ratio = False\n",
    "\n",
    "    for label in os.listdir(path):\n",
    "        counter = 0\n",
    "        label_path = os.path.join(path, label)\n",
    "        label_files = os.listdir(label_path)\n",
    "\n",
    "        if len(label_files) == 0:\n",
    "            print_warn(\n",
    "                f\"The path {label_path} that should contain the images of the pet \"\n",
    "                f\"'{label}' is empty. Skipping to the next label.\"\n",
    "            )\n",
    "            continue\n",
    "\n",
    "        for file in label_files:\n",
    "            file_path = os.path.join(label_path, file)\n",
    "            if not file.lower().endswith(img_ext):\n",
    "                print_err(\n",
    "                    f\"{file} has an invalid file extension. Valid extensions are \"\n",
    "                    f\"png, jpg, jpeg. Delete file (y) or cancel operation (n)?\"\n",
    "                )\n",
    "                if get_user_confirmation() == \"y\":\n",
    "                    print(f\"Deleting invalid file {file} ...\")\n",
    "                    os.remove(file_path)\n",
    "                    continue\n",
    "                else:\n",
    "                    print(\n",
    "                        f\"Cancelling the image cleaning process. Please make sure all \"\n",
    "                        f\"input files have valid extensions and restart the process.\"\n",
    "                    )\n",
    "                    return\n",
    "            else:\n",
    "                try:\n",
    "                    with Image.open(file_path) as img:\n",
    "                        if not img.width == img.height:\n",
    "                            print_warn(\n",
    "                                f\"{file_path}:\\nThe image aspect ratio is not 1:1. \"\n",
    "                                f\"Pad and overwrite file? (y/n)\"\n",
    "                            )\n",
    "                            if get_user_confirmation() == \"y\":\n",
    "                                img = ImageOps.pad(\n",
    "                                    img, dims, method=Image.LANCZOS, color=\"white\"\n",
    "                                )\n",
    "                                img.save(file_path)\n",
    "                                print(f\"Padded and overwrote {file_path}\")\n",
    "                            else:\n",
    "                                wrong_aspect_ratio = True\n",
    "                                print(\"Skipping ...\")\n",
    "                                continue\n",
    "                    counter += 1\n",
    "\n",
    "                except (IOError, OSError, UnidentifiedImageError):\n",
    "                    print_err(\n",
    "                        f\"Couldn't open {file_path}.\\nDelete invalid file {file_path}? (y/n)\"\n",
    "                    )\n",
    "                    if get_user_confirmation() == \"y\":\n",
    "                        os.remove(file_path)\n",
    "                        print(f\"Deleted {file_path}\")\n",
    "\n",
    "                    continue\n",
    "\n",
    "        img_stats[label] = counter\n",
    "\n",
    "    if incomplete_dataset:\n",
    "        print_warn(\n",
    "            \"The existing image files have been successfully prepared \"\n",
    "            \"for splitting, but the dataset is incomplete.\\nPlease \"\n",
    "            \"re-check the amount of labels and image files before \"\n",
    "            \"splitting the data and training the model.\"\n",
    "        )\n",
    "    if wrong_aspect_ratio:\n",
    "        print_warn(\n",
    "            \"You chose to keep image files with the wrong aspect ratio.\\n\"\n",
    "            \"Please make sure all image files have the aspect ratio 1:1 \"\n",
    "            \"before training the model.\"\n",
    "        )\n",
    "\n",
    "    print(\"\\nFinished cleaning the image files.\")\n",
    "\n",
    "    return img_stats"
   ]
  },
  {
   "cell_type": "code",
   "execution_count": 26,
   "metadata": {},
   "outputs": [
    {
     "name": "stdout",
     "output_type": "stream",
     "text": [
      "Checking the directory d:\\Projekte\\Coding\\CodeInstitute\\PP5\\inputs\\datasets\\pets ...\n",
      "Checking the directory d:\\Projekte\\Coding\\CodeInstitute\\PP5\\inputs\\datasets\\pets\\fin ...\n",
      "Amount of files with the label \"fin\": \n",
      "410\n",
      "Checking the directory d:\\Projekte\\Coding\\CodeInstitute\\PP5\\inputs\\datasets\\pets\\iris ...\n",
      "Amount of files with the label \"iris\": \n",
      "604\n",
      "Checking the directory d:\\Projekte\\Coding\\CodeInstitute\\PP5\\inputs\\datasets\\pets\\smilla ...\n",
      "Amount of files with the label \"smilla\": \n",
      "445\n",
      "\n",
      "Finished cleaning the image files.\n"
     ]
    }
   ],
   "source": [
    "img_stats = clean_images(full_dataset_path, expected_labels_num=3, dims=(128, 128))"
   ]
  },
  {
   "cell_type": "markdown",
   "metadata": {},
   "source": [
    "### Show a summary for all labels and image files"
   ]
  },
  {
   "cell_type": "code",
   "execution_count": 36,
   "metadata": {},
   "outputs": [],
   "source": [
    "def plot_img_stats(img_stats, output_path=output_path, after_split=False):\n",
    "    \"\"\"Visualize the image stats in a bar plot\n",
    "\n",
    "    Args:\n",
    "        img_stats (dict): Dictionary with labels or split folders as keys and image\n",
    "            amounts or label/image amount dictionaries as values\n",
    "        output_path (str, optional): Path to save the plot graph. Defaults to output_path.\n",
    "        after_split (bool, optional): If 'img_stats' has been created after the dataset\n",
    "            has been split. Defaults to False.\n",
    "    \"\"\"\n",
    "\n",
    "    if after_split:\n",
    "        print(\"Distribution of labelled images after splitting the dataset:\\n\")\n",
    "        df = pd.DataFrame(img_stats)\n",
    "        ax = df.transpose().plot.bar()\n",
    "        col = df[\"train\"]\n",
    "        suffix = '_after_split'\n",
    "\n",
    "    else:\n",
    "        print(\"Amount of labelled images in the input dataset:\\n\")\n",
    "        df = pd.DataFrame.from_dict(img_stats, columns=[\"amount\"], orient=\"index\")\n",
    "        col = df[\"amount\"]\n",
    "        ax = sns.barplot(\n",
    "            y=img_stats.values(),\n",
    "            x=img_stats.keys(),\n",
    "            hue=img_stats.keys(),\n",
    "            legend=False,\n",
    "            palette=\"viridis\",\n",
    "        )\n",
    "        suffix = ''\n",
    "\n",
    "    for container in ax.containers:\n",
    "        ax.bar_label(container)\n",
    "    plt.savefig(\n",
    "        f\"{output_path}/labels_distribution{suffix}.png\", bbox_inches=\"tight\", dpi=150\n",
    "    )\n",
    "    plt.show()\n",
    "\n",
    "    col_idxmin, col_idxmax = col.idxmin(), col.idxmax()\n",
    "    col_min, col_max = col.min(axis=0), col.max(axis=0)\n",
    "    print(\"Label with the lowest amount of images:\")\n",
    "    print(f\"{col_idxmin}: {col_min}\")\n",
    "    print(\"Label with the highest amount of images:\")\n",
    "    print(f\"{col_idxmax}: {col_max}\")\n",
    "    print(\n",
    "        f\"Difference: {col_max - col_min}, \"\n",
    "        f\"{col_idxmax} has {round(col_max / (col_min / 100) - 100)} % more images than {col_idxmin}\"\n",
    "    )"
   ]
  },
  {
   "cell_type": "markdown",
   "metadata": {},
   "source": [
    "The following plot shows whether the labels are balanced."
   ]
  },
  {
   "cell_type": "code",
   "execution_count": 28,
   "metadata": {},
   "outputs": [
    {
     "name": "stdout",
     "output_type": "stream",
     "text": [
      "Amount of labelled images in the input dataset:\n",
      "\n"
     ]
    },
    {
     "data": {
      "image/png": "[encoded data removed]",
      "text/plain": [
       "<Figure size 640x480 with 1 Axes>"
      ]
     },
     "metadata": {},
     "output_type": "display_data"
    },
    {
     "name": "stdout",
     "output_type": "stream",
     "text": [
      "Label with the lowest amount of images:\n",
      "fin: 410\n",
      "Label with the highest amount of images:\n",
      "iris: 604\n",
      "Difference: 194, iris has 47 % more images than fin\n"
     ]
    }
   ],
   "source": [
    "# Run before splitting the dataset\n",
    "plot_img_stats(img_stats)"
   ]
  },
  {
   "cell_type": "markdown",
   "metadata": {},
   "source": [
    "### Split the dataset into 'train', 'validation', and 'test' sets"
   ]
  },
  {
   "cell_type": "code",
   "execution_count": 29,
   "metadata": {},
   "outputs": [],
   "source": [
    "def split_dataset(path, split_folders, train_ratio, test_ratio, val_ratio):\n",
    "    \"\"\"Split all images into subsets\n",
    "\n",
    "    Args:\n",
    "        path (str): Path to the full dataset\n",
    "        split_folders (list): Names and order of the subsets to be created\n",
    "        train_ratio (float): Percentage of training data that the dataset should contain\n",
    "        test_ratio (float): Percentage of test data that the dataset should contain\n",
    "        val_ratio (float): Percentage of validation data that the dataset should contain\n",
    "    \"\"\"\n",
    "\n",
    "    # Check if ratios are valid\n",
    "    if train_ratio + test_ratio + val_ratio != 1.0:\n",
    "        print_err(\"Please make sure the file quantity ratios add up to 1.\")\n",
    "        return\n",
    "\n",
    "    labels = os.listdir(path)\n",
    "\n",
    "    # Check if the folder structure has already been created\n",
    "    if not set(labels).isdisjoint(split_folders):\n",
    "        print_err(\n",
    "            \"The dataset folder already contains the subfolders that you are trying to \"\n",
    "            f\"create. Please check your input folder.\"\n",
    "        )\n",
    "        return\n",
    "\n",
    "    # Create folder structure\n",
    "    for folder in split_folders:\n",
    "        for label in labels:\n",
    "            os.makedirs(name=os.path.join(path, folder, label))\n",
    "\n",
    "    # Move image files to the appropriate subfolders\n",
    "    for label in labels:\n",
    "        label_path = os.path.join(path, label)\n",
    "        label_files = os.listdir(label_path)\n",
    "        random.shuffle(label_files)\n",
    "        train_amount = int(train_ratio * len(label_files))\n",
    "        test_amount = int(test_ratio * len(label_files))\n",
    "        for counter, file in enumerate(label_files):\n",
    "            file_path = os.path.join(label_path, file)\n",
    "            if counter <= train_amount:\n",
    "                shutil.move(file_path, os.path.join(path, \"train\", label, file))\n",
    "            elif counter <= train_amount + test_amount:\n",
    "                shutil.move(file_path, os.path.join(path, \"test\", label, file))\n",
    "            else:\n",
    "                shutil.move(file_path, os.path.join(path, \"validation\", label, file))\n",
    "\n",
    "        # Delete folder if empty\n",
    "        if not len(os.listdir(label_path)):\n",
    "            os.rmdir(label_path)\n",
    "        else:\n",
    "            print(f\"Unassigned files remaining in {label_path}\")\n",
    "\n",
    "    # Save all labels as classes in alphabetical order\n",
    "    class_dict = {}\n",
    "    for idx, label in enumerate(sorted(labels)):\n",
    "        class_dict[idx] = label\n",
    "    joblib.dump(class_dict, f\"{output_path}/class_dict.pkl\")\n",
    "    print(\"Saved all classes in class_dict.pkl.\")\n",
    "\n",
    "    print(\"The dataset has been split successfully.\")\n",
    "\n",
    "    return"
   ]
  },
  {
   "cell_type": "markdown",
   "metadata": {},
   "source": [
    "Here, we set a reasonable ratio for the subsets such as 60% - 20% - 20% and save it for later reference."
   ]
  },
  {
   "cell_type": "code",
   "execution_count": 30,
   "metadata": {},
   "outputs": [
    {
     "data": {
      "text/plain": [
       "['d:\\\\Projekte\\\\Coding\\\\CodeInstitute\\\\PP5\\\\outputs/split_folder_ratio.pkl']"
      ]
     },
     "execution_count": 30,
     "metadata": {},
     "output_type": "execute_result"
    }
   ],
   "source": [
    "split_ratio = (0.6, 0.2, 0.2)\n",
    "split_folders = [\"train\", \"test\", \"validation\"]\n",
    "joblib.dump([split_folders, split_ratio], f\"{output_path}/split_folder_ratio.pkl\")"
   ]
  },
  {
   "cell_type": "markdown",
   "metadata": {},
   "source": [
    "This function call splits the dataset on the disk into three subsets."
   ]
  },
  {
   "cell_type": "code",
   "execution_count": 31,
   "metadata": {},
   "outputs": [
    {
     "name": "stdout",
     "output_type": "stream",
     "text": [
      "Saved all classes in class_dict.pkl.\n",
      "The dataset has been split successfully.\n"
     ]
    }
   ],
   "source": [
    "split_dataset(full_dataset_path, split_folders, *split_ratio)"
   ]
  },
  {
   "cell_type": "markdown",
   "metadata": {},
   "source": [
    "### Show a summary for the split dataset"
   ]
  },
  {
   "cell_type": "code",
   "execution_count": 32,
   "metadata": {},
   "outputs": [],
   "source": [
    "def get_split_stats(path):\n",
    "    \"\"\"Create summary of the split dataset\n",
    "\n",
    "    Args:\n",
    "        path (str): Path to the full dataset\n",
    "\n",
    "    Returns:\n",
    "        dict: Dictionary with all folders, subfolders and image amounts in the dataset\n",
    "    \"\"\"\n",
    "    \n",
    "    img_stats = {}\n",
    "\n",
    "    for folder in os.listdir(path):\n",
    "        folder_path = os.path.join(path, folder)\n",
    "        folder_dir = os.listdir(folder_path)\n",
    "        img_stats[folder] = {}\n",
    "\n",
    "        for label in folder_dir:\n",
    "            label_folder_dir = os.listdir(os.path.join(folder_path, label))\n",
    "            img_stats[folder][label] = len(label_folder_dir)\n",
    "\n",
    "    return img_stats"
   ]
  },
  {
   "cell_type": "code",
   "execution_count": 37,
   "metadata": {},
   "outputs": [
    {
     "name": "stdout",
     "output_type": "stream",
     "text": [
      "Distribution of labelled images after splitting the dataset:\n",
      "\n"
     ]
    },
    {
     "data": {
      "image/png": "[encoded data removed]",
      "text/plain": [
       "<Figure size 640x480 with 1 Axes>"
      ]
     },
     "metadata": {},
     "output_type": "display_data"
    },
    {
     "name": "stdout",
     "output_type": "stream",
     "text": [
      "Label with the lowest amount of images:\n",
      "fin: 247\n",
      "Label with the highest amount of images:\n",
      "iris: 363\n",
      "Difference: 116, iris has 47 % more images than fin\n"
     ]
    }
   ],
   "source": [
    "# Create the summary dict\n",
    "img_stats = get_split_stats(full_dataset_path)\n",
    "# Save the summary dict for later reference\n",
    "joblib.dump(img_stats, f\"{output_path}/labels_distribution.pkl\")\n",
    "# Visualize the split dataset stats\n",
    "plot_img_stats(img_stats, after_split=True)"
   ]
  },
  {
   "cell_type": "markdown",
   "metadata": {},
   "source": [
    "## Conclusion"
   ]
  },
  {
   "cell_type": "markdown",
   "metadata": {},
   "source": [
    "At this point, we should decide whether the amount and distribution of images is adequate for training the model.\n",
    "If not, we should collect more image data or augment/reduce the data at a later stage.\n",
    "\n",
    "If all steps in this notebook have been properly executed, we should now have a split dataset containing only valid image files sized `(128, 128)`."
   ]
  }
 ],
 "metadata": {
  "kernelspec": {
   "display_name": ".venv",
   "language": "python",
   "name": "python3"
  },
  "language_info": {
   "codemirror_mode": {
    "name": "ipython",
    "version": 3
   },
   "file_extension": ".py",
   "mimetype": "text/x-python",
   "name": "python",
   "nbconvert_exporter": "python",
   "pygments_lexer": "ipython3",
   "version": "3.12.2"
  }
 },
 "nbformat": 4,
 "nbformat_minor": 2
}
